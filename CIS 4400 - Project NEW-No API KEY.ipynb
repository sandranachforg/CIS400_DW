{
  "nbformat": 4,
  "nbformat_minor": 0,
  "metadata": {
    "kernelspec": {
      "display_name": "Python 3",
      "language": "python",
      "name": "python3"
    },
    "language_info": {
      "codemirror_mode": {
        "name": "ipython",
        "version": 3
      },
      "file_extension": ".py",
      "mimetype": "text/x-python",
      "name": "python",
      "nbconvert_exporter": "python",
      "pygments_lexer": "ipython3",
      "version": "3.8.5"
    },
    "colab": {
      "name": "CIS 4400 - Project NEW-No API KEY.ipynb",
      "provenance": []
    }
  },
  "cells": [
    {
      "cell_type": "markdown",
      "metadata": {
        "id": "iHWs_U_dIFk5"
      },
      "source": [
        "#### ETL - Data Transformation"
      ]
    },
    {
      "cell_type": "markdown",
      "metadata": {
        "id": "0cUPgfAeIFk8"
      },
      "source": [
        "#### 1. Import libraries"
      ]
    },
    {
      "cell_type": "code",
      "metadata": {
        "id": "vlMR-feFIFk9"
      },
      "source": [
        "import tweepy as tw\n",
        "import re\n",
        "import pandas as pd\n",
        "import preprocessor as p\n",
        "from preprocessor.api import clean, tokenize, parse\n",
        "import re, string, unicodedata\n",
        "import nltk\n",
        "import datetime as dt\n",
        "import emoji\n",
        "from textblob import TextBlob"
      ],
      "execution_count": null,
      "outputs": []
    },
    {
      "cell_type": "markdown",
      "metadata": {
        "id": "dmkf3jBbIFk_"
      },
      "source": [
        "#### 2. We are interested in the sentiment of the following companies :"
      ]
    },
    {
      "cell_type": "markdown",
      "metadata": {
        "id": "unkisumWIFlA"
      },
      "source": [
        "a) Netflix (username: netflix) \\\n",
        "b) Coca Cola (username: CocaCola) \\\n",
        "c) Tesla (username: Tesla)\\\n",
        "d) Nestle (username: Nestle) \\\n",
        "e) L'Oréal Group (username: Loreal) "
      ]
    },
    {
      "cell_type": "markdown",
      "metadata": {
        "id": "64VQJ3OoIFlB"
      },
      "source": [
        "#### 3. Authorize Account for Twitter"
      ]
    },
    {
      "cell_type": "code",
      "metadata": {
        "id": "gQkmX3LpIFlC",
        "outputId": "e844802f-af6b-4e02-9ba4-12424f7c0292"
      },
      "source": [
        "consumer_key= ''\n",
        "consumer_secret= ''\n",
        "access_token= \"\"\n",
        "access_token_secret= ''\n",
        "callback_url = 'oob'\n",
        "\n",
        "auth = tw.OAuthHandler(consumer_key, consumer_secret, callback_url)\n",
        "redirect_url= auth.get_authorization_url()\n",
        "\n",
        "print (redirect_url)\n",
        "\n",
        "auth.set_access_token(access_token, access_token_secret)\n",
        "api = tw.API(auth, wait_on_rate_limit=True)\n",
        "\n",
        "user_pin_input = input (\"What's the pin value? \")\n",
        "api = tw.API (auth)"
      ],
      "execution_count": null,
      "outputs": [
        {
          "output_type": "stream",
          "text": [
            "https://api.twitter.com/oauth/authorize?oauth_token=ofW6fgAAAAABNQviAAABeNIYIn8\n",
            "What's the pin value? 2568788\n"
          ],
          "name": "stdout"
        }
      ]
    },
    {
      "cell_type": "markdown",
      "metadata": {
        "id": "SdhpMsvGIFlD"
      },
      "source": [
        "#### 4. Get data from Twitter API "
      ]
    },
    {
      "cell_type": "code",
      "metadata": {
        "id": "XhNaQM3cIFlE"
      },
      "source": [
        "def get_timeline(hashtag, company_id, document_id):\n",
        "    \n",
        "    number_of_tweets = 300\n",
        "    tweets = []\n",
        "    likes= []\n",
        "    time= []\n",
        "    user = []\n",
        "    author = []\n",
        "    retweet=[]\n",
        "    \n",
        "    # q = netflix hashtags \n",
        "    \n",
        "    for i in tw.Cursor(api.search, q= hashtag, tweet_mode= 'extended', lang= \"en\").items(number_of_tweets):\n",
        "        tweets.append(i.full_text)\n",
        "        likes.append(i.favorite_count)\n",
        "        time.append(i.created_at)\n",
        "        retweet.append(i.retweet_count) \n",
        "        #location.append(i.user.location)\n",
        "        \n",
        "    df= pd.DataFrame({'tweets': tweets, 'likes': likes, 'timestamp': time, 'retweet': retweet})\n",
        "    \n",
        "    df[\"document_id\"] = document_id\n",
        "    df[\"company_id\"] = company_id\n",
        "    \n",
        "    df= df[[\"company_id\", \"timestamp\", \"document_id\", \"tweets\", \"retweet\", \"likes\"]]\n",
        "\n",
        "    return df"
      ],
      "execution_count": null,
      "outputs": []
    },
    {
      "cell_type": "code",
      "metadata": {
        "id": "WA77V4mxIFlF",
        "outputId": "d7814edc-7d3d-4dd4-92fe-c8bccfee4cc7"
      },
      "source": [
        "get_timeline(\"netflix\", 1, 1)"
      ],
      "execution_count": null,
      "outputs": [
        {
          "output_type": "execute_result",
          "data": {
            "text/html": [
              "<div>\n",
              "<style scoped>\n",
              "    .dataframe tbody tr th:only-of-type {\n",
              "        vertical-align: middle;\n",
              "    }\n",
              "\n",
              "    .dataframe tbody tr th {\n",
              "        vertical-align: top;\n",
              "    }\n",
              "\n",
              "    .dataframe thead th {\n",
              "        text-align: right;\n",
              "    }\n",
              "</style>\n",
              "<table border=\"1\" class=\"dataframe\">\n",
              "  <thead>\n",
              "    <tr style=\"text-align: right;\">\n",
              "      <th></th>\n",
              "      <th>company_id</th>\n",
              "      <th>timestamp</th>\n",
              "      <th>document_id</th>\n",
              "      <th>tweets</th>\n",
              "      <th>retweet</th>\n",
              "      <th>likes</th>\n",
              "    </tr>\n",
              "  </thead>\n",
              "  <tbody>\n",
              "    <tr>\n",
              "      <th>0</th>\n",
              "      <td>1</td>\n",
              "      <td>2021-04-14 22:43:06</td>\n",
              "      <td>1</td>\n",
              "      <td>they took perks of being a wallflower off netf...</td>\n",
              "      <td>0</td>\n",
              "      <td>0</td>\n",
              "    </tr>\n",
              "    <tr>\n",
              "      <th>1</th>\n",
              "      <td>1</td>\n",
              "      <td>2021-04-14 22:43:05</td>\n",
              "      <td>1</td>\n",
              "      <td>RT @archivdob: LOVE AND MONSTERS CAME OUT TODA...</td>\n",
              "      <td>271</td>\n",
              "      <td>0</td>\n",
              "    </tr>\n",
              "    <tr>\n",
              "      <th>2</th>\n",
              "      <td>1</td>\n",
              "      <td>2021-04-14 22:43:05</td>\n",
              "      <td>1</td>\n",
              "      <td>RT @Crunchyroll: NEWS: Historically Inspired N...</td>\n",
              "      <td>220</td>\n",
              "      <td>0</td>\n",
              "    </tr>\n",
              "    <tr>\n",
              "      <th>3</th>\n",
              "      <td>1</td>\n",
              "      <td>2021-04-14 22:43:03</td>\n",
              "      <td>1</td>\n",
              "      <td>I already know “Glory” will be in at least one...</td>\n",
              "      <td>0</td>\n",
              "      <td>0</td>\n",
              "    </tr>\n",
              "    <tr>\n",
              "      <th>4</th>\n",
              "      <td>1</td>\n",
              "      <td>2021-04-14 22:43:03</td>\n",
              "      <td>1</td>\n",
              "      <td>RT @SeriesTWBZ: A Netflix anunciou 'Chadwick B...</td>\n",
              "      <td>299</td>\n",
              "      <td>0</td>\n",
              "    </tr>\n",
              "    <tr>\n",
              "      <th>...</th>\n",
              "      <td>...</td>\n",
              "      <td>...</td>\n",
              "      <td>...</td>\n",
              "      <td>...</td>\n",
              "      <td>...</td>\n",
              "      <td>...</td>\n",
              "    </tr>\n",
              "    <tr>\n",
              "      <th>295</th>\n",
              "      <td>1</td>\n",
              "      <td>2021-04-14 22:39:50</td>\n",
              "      <td>1</td>\n",
              "      <td>4 MINUTES INTO NETFLIX ND CHILL\\n🤣🤣 https://t....</td>\n",
              "      <td>0</td>\n",
              "      <td>0</td>\n",
              "    </tr>\n",
              "    <tr>\n",
              "      <th>296</th>\n",
              "      <td>1</td>\n",
              "      <td>2021-04-14 22:39:50</td>\n",
              "      <td>1</td>\n",
              "      <td>@TPOImagination LOVE AND MONSTERS ON NETFLIX</td>\n",
              "      <td>0</td>\n",
              "      <td>0</td>\n",
              "    </tr>\n",
              "    <tr>\n",
              "      <th>297</th>\n",
              "      <td>1</td>\n",
              "      <td>2021-04-14 22:39:49</td>\n",
              "      <td>1</td>\n",
              "      <td>RT @OWENDZ: coming out means you get a netflix...</td>\n",
              "      <td>4</td>\n",
              "      <td>0</td>\n",
              "    </tr>\n",
              "    <tr>\n",
              "      <th>298</th>\n",
              "      <td>1</td>\n",
              "      <td>2021-04-14 22:39:49</td>\n",
              "      <td>1</td>\n",
              "      <td>@TPOImagination Yo quiero un meme de mica LOVE...</td>\n",
              "      <td>0</td>\n",
              "      <td>1</td>\n",
              "    </tr>\n",
              "    <tr>\n",
              "      <th>299</th>\n",
              "      <td>1</td>\n",
              "      <td>2021-04-14 22:39:47</td>\n",
              "      <td>1</td>\n",
              "      <td>They don’t know any dark skin actors for these...</td>\n",
              "      <td>0</td>\n",
              "      <td>0</td>\n",
              "    </tr>\n",
              "  </tbody>\n",
              "</table>\n",
              "<p>300 rows × 6 columns</p>\n",
              "</div>"
            ],
            "text/plain": [
              "     company_id           timestamp  document_id  \\\n",
              "0             1 2021-04-14 22:43:06            1   \n",
              "1             1 2021-04-14 22:43:05            1   \n",
              "2             1 2021-04-14 22:43:05            1   \n",
              "3             1 2021-04-14 22:43:03            1   \n",
              "4             1 2021-04-14 22:43:03            1   \n",
              "..          ...                 ...          ...   \n",
              "295           1 2021-04-14 22:39:50            1   \n",
              "296           1 2021-04-14 22:39:50            1   \n",
              "297           1 2021-04-14 22:39:49            1   \n",
              "298           1 2021-04-14 22:39:49            1   \n",
              "299           1 2021-04-14 22:39:47            1   \n",
              "\n",
              "                                                tweets  retweet  likes  \n",
              "0    they took perks of being a wallflower off netf...        0      0  \n",
              "1    RT @archivdob: LOVE AND MONSTERS CAME OUT TODA...      271      0  \n",
              "2    RT @Crunchyroll: NEWS: Historically Inspired N...      220      0  \n",
              "3    I already know “Glory” will be in at least one...        0      0  \n",
              "4    RT @SeriesTWBZ: A Netflix anunciou 'Chadwick B...      299      0  \n",
              "..                                                 ...      ...    ...  \n",
              "295  4 MINUTES INTO NETFLIX ND CHILL\\n🤣🤣 https://t....        0      0  \n",
              "296       @TPOImagination LOVE AND MONSTERS ON NETFLIX        0      0  \n",
              "297  RT @OWENDZ: coming out means you get a netflix...        4      0  \n",
              "298  @TPOImagination Yo quiero un meme de mica LOVE...        0      1  \n",
              "299  They don’t know any dark skin actors for these...        0      0  \n",
              "\n",
              "[300 rows x 6 columns]"
            ]
          },
          "metadata": {
            "tags": []
          },
          "execution_count": 73
        }
      ]
    },
    {
      "cell_type": "markdown",
      "metadata": {
        "id": "x_6kvzENIFlG"
      },
      "source": [
        "#### 5. Create a time dimension"
      ]
    },
    {
      "cell_type": "code",
      "metadata": {
        "id": "yrA1SBV6IFlG"
      },
      "source": [
        "def get_time_dim(df):\n",
        "    df_time= df[[\"timestamp\"]]\n",
        "    df_time['Time'] = pd.to_datetime(df['timestamp']).dt.time\n",
        "    df_time['Day']= pd.to_datetime(df['timestamp']).dt.day\n",
        "    df_time['Month']= pd.to_datetime(df['timestamp']).dt.month\n",
        "    df_time['Year']= pd.to_datetime(df['timestamp']).dt.year\n",
        "    \n",
        "    df_time.drop_duplicates(inplace = True)\n",
        "    \n",
        "    return df_time\n",
        "\n",
        "## timestamp is the primary key here in SQL\n",
        "## In fact table it is part of the primary key"
      ],
      "execution_count": null,
      "outputs": []
    },
    {
      "cell_type": "markdown",
      "metadata": {
        "id": "4bRxmUZGIFlH"
      },
      "source": [
        "#### 6. Create a sentiment score for fact table\n"
      ]
    },
    {
      "cell_type": "code",
      "metadata": {
        "id": "lbUK7EPvIFlH",
        "outputId": "6566ba4a-ad3c-468f-bd55-973ff027c89b"
      },
      "source": [
        "def cleanup_tweets(s):\n",
        "    text = s.lower().split()       # makes all characters lower case\n",
        "    text = list(filter(lambda x: \"http\" not in x, text))        # removes https\n",
        "    text = list(filter(lambda x: not x.startswith(\"@\"), text))\n",
        "    text = list(map(lambda x: emoji.demojize(x, delimiters=(\"\", \",\")).replace(\"_\", \" \"), text))\n",
        "\n",
        "    return \" \".join(text)\n",
        "\n",
        "print(cleanup_tweets(\"Game on 🎮\\n\\n📸 by @FromWhereICHG https://t.co/...\"))"
      ],
      "execution_count": null,
      "outputs": [
        {
          "output_type": "stream",
          "text": [
            "game on video game, camera with flash, by\n"
          ],
          "name": "stdout"
        }
      ]
    },
    {
      "cell_type": "code",
      "metadata": {
        "id": "6CCz39i5IFlI",
        "outputId": "1a4e359b-8747-4028-c734-b126f00026aa"
      },
      "source": [
        "df[\"cleaned_tweets\"] = df[\"tweets\"].apply(lambda x: cleanup_tweets(x))\n",
        "\n",
        "df.head()"
      ],
      "execution_count": null,
      "outputs": [
        {
          "output_type": "execute_result",
          "data": {
            "text/html": [
              "<div>\n",
              "<style scoped>\n",
              "    .dataframe tbody tr th:only-of-type {\n",
              "        vertical-align: middle;\n",
              "    }\n",
              "\n",
              "    .dataframe tbody tr th {\n",
              "        vertical-align: top;\n",
              "    }\n",
              "\n",
              "    .dataframe thead th {\n",
              "        text-align: right;\n",
              "    }\n",
              "</style>\n",
              "<table border=\"1\" class=\"dataframe\">\n",
              "  <thead>\n",
              "    <tr style=\"text-align: right;\">\n",
              "      <th></th>\n",
              "      <th>tweets</th>\n",
              "      <th>likes</th>\n",
              "      <th>timestamp</th>\n",
              "      <th>user</th>\n",
              "      <th>retweet</th>\n",
              "      <th>cleaned_tweets</th>\n",
              "    </tr>\n",
              "  </thead>\n",
              "  <tbody>\n",
              "    <tr>\n",
              "      <th>0</th>\n",
              "      <td>Netflix just dropped season 2 of The Circle 👀</td>\n",
              "      <td>0</td>\n",
              "      <td>2021-04-14 20:57:41</td>\n",
              "      <td>nomsed</td>\n",
              "      <td>0</td>\n",
              "      <td>netflix just dropped season 2 of the circle eyes,</td>\n",
              "    </tr>\n",
              "    <tr>\n",
              "      <th>1</th>\n",
              "      <td>RT @dianelyssa: Colton coming out and then ann...</td>\n",
              "      <td>0</td>\n",
              "      <td>2021-04-14 20:57:40</td>\n",
              "      <td>annabkrr</td>\n",
              "      <td>474</td>\n",
              "      <td>rt colton coming out and then announcing a net...</td>\n",
              "    </tr>\n",
              "    <tr>\n",
              "      <th>2</th>\n",
              "      <td>genshin taemin gay au kai taekook shinee tikto...</td>\n",
              "      <td>0</td>\n",
              "      <td>2021-04-14 20:57:40</td>\n",
              "      <td>filmhj</td>\n",
              "      <td>0</td>\n",
              "      <td>genshin taemin gay au kai taekook shinee tikto...</td>\n",
              "    </tr>\n",
              "    <tr>\n",
              "      <th>3</th>\n",
              "      <td>RT @netflix: Get your first look at Never Have...</td>\n",
              "      <td>0</td>\n",
              "      <td>2021-04-14 20:57:39</td>\n",
              "      <td>shoutoutlander</td>\n",
              "      <td>793</td>\n",
              "      <td>rt get your first look at never have i ever se...</td>\n",
              "    </tr>\n",
              "    <tr>\n",
              "      <th>4</th>\n",
              "      <td>@Austin49951405 @EDortGam3r @kittiwhores @Clue...</td>\n",
              "      <td>0</td>\n",
              "      <td>2021-04-14 20:57:39</td>\n",
              "      <td>wwbcomics</td>\n",
              "      <td>0</td>\n",
              "      <td>??? mineta is a pervert. what did they say wrong?</td>\n",
              "    </tr>\n",
              "  </tbody>\n",
              "</table>\n",
              "</div>"
            ],
            "text/plain": [
              "                                              tweets  likes  \\\n",
              "0      Netflix just dropped season 2 of The Circle 👀      0   \n",
              "1  RT @dianelyssa: Colton coming out and then ann...      0   \n",
              "2  genshin taemin gay au kai taekook shinee tikto...      0   \n",
              "3  RT @netflix: Get your first look at Never Have...      0   \n",
              "4  @Austin49951405 @EDortGam3r @kittiwhores @Clue...      0   \n",
              "\n",
              "            timestamp            user  retweet  \\\n",
              "0 2021-04-14 20:57:41          nomsed        0   \n",
              "1 2021-04-14 20:57:40        annabkrr      474   \n",
              "2 2021-04-14 20:57:40          filmhj        0   \n",
              "3 2021-04-14 20:57:39  shoutoutlander      793   \n",
              "4 2021-04-14 20:57:39       wwbcomics        0   \n",
              "\n",
              "                                      cleaned_tweets  \n",
              "0  netflix just dropped season 2 of the circle eyes,  \n",
              "1  rt colton coming out and then announcing a net...  \n",
              "2  genshin taemin gay au kai taekook shinee tikto...  \n",
              "3  rt get your first look at never have i ever se...  \n",
              "4  ??? mineta is a pervert. what did they say wrong?  "
            ]
          },
          "metadata": {
            "tags": []
          },
          "execution_count": 26
        }
      ]
    },
    {
      "cell_type": "markdown",
      "metadata": {
        "id": "xJfRwcJCIFlJ"
      },
      "source": [
        "#### 7. Sentiment Analysis using Textblob"
      ]
    },
    {
      "cell_type": "code",
      "metadata": {
        "id": "qNiAs9G5IFlJ"
      },
      "source": [
        "df['sentiment'] = df['cleaned_tweets'].apply(lambda tweet: TextBlob(tweet).sentiment.polarity)"
      ],
      "execution_count": null,
      "outputs": []
    },
    {
      "cell_type": "code",
      "metadata": {
        "id": "IivOSaKNIFlK",
        "outputId": "1f6f978a-dbf9-49f4-dbf3-06ec97221ba3"
      },
      "source": [
        "df"
      ],
      "execution_count": null,
      "outputs": [
        {
          "output_type": "execute_result",
          "data": {
            "text/html": [
              "<div>\n",
              "<style scoped>\n",
              "    .dataframe tbody tr th:only-of-type {\n",
              "        vertical-align: middle;\n",
              "    }\n",
              "\n",
              "    .dataframe tbody tr th {\n",
              "        vertical-align: top;\n",
              "    }\n",
              "\n",
              "    .dataframe thead th {\n",
              "        text-align: right;\n",
              "    }\n",
              "</style>\n",
              "<table border=\"1\" class=\"dataframe\">\n",
              "  <thead>\n",
              "    <tr style=\"text-align: right;\">\n",
              "      <th></th>\n",
              "      <th>tweets</th>\n",
              "      <th>likes</th>\n",
              "      <th>timestamp</th>\n",
              "      <th>user</th>\n",
              "      <th>retweet</th>\n",
              "      <th>cleaned_tweets</th>\n",
              "      <th>sentiment</th>\n",
              "    </tr>\n",
              "  </thead>\n",
              "  <tbody>\n",
              "    <tr>\n",
              "      <th>0</th>\n",
              "      <td>Netflix just dropped season 2 of The Circle 👀</td>\n",
              "      <td>0</td>\n",
              "      <td>2021-04-14 20:57:41</td>\n",
              "      <td>nomsed</td>\n",
              "      <td>0</td>\n",
              "      <td>netflix just dropped season 2 of the circle eyes,</td>\n",
              "      <td>(0.0, 0.0)</td>\n",
              "    </tr>\n",
              "    <tr>\n",
              "      <th>1</th>\n",
              "      <td>RT @dianelyssa: Colton coming out and then ann...</td>\n",
              "      <td>0</td>\n",
              "      <td>2021-04-14 20:57:40</td>\n",
              "      <td>annabkrr</td>\n",
              "      <td>474</td>\n",
              "      <td>rt colton coming out and then announcing a net...</td>\n",
              "      <td>(0.35714285714285715, 0.5714285714285714)</td>\n",
              "    </tr>\n",
              "    <tr>\n",
              "      <th>2</th>\n",
              "      <td>genshin taemin gay au kai taekook shinee tikto...</td>\n",
              "      <td>0</td>\n",
              "      <td>2021-04-14 20:57:40</td>\n",
              "      <td>filmhj</td>\n",
              "      <td>0</td>\n",
              "      <td>genshin taemin gay au kai taekook shinee tikto...</td>\n",
              "      <td>(0.4166666666666667, 0.5833333333333334)</td>\n",
              "    </tr>\n",
              "    <tr>\n",
              "      <th>3</th>\n",
              "      <td>RT @netflix: Get your first look at Never Have...</td>\n",
              "      <td>0</td>\n",
              "      <td>2021-04-14 20:57:39</td>\n",
              "      <td>shoutoutlander</td>\n",
              "      <td>793</td>\n",
              "      <td>rt get your first look at never have i ever se...</td>\n",
              "      <td>(-0.0625, 0.41666666666666663)</td>\n",
              "    </tr>\n",
              "    <tr>\n",
              "      <th>4</th>\n",
              "      <td>@Austin49951405 @EDortGam3r @kittiwhores @Clue...</td>\n",
              "      <td>0</td>\n",
              "      <td>2021-04-14 20:57:39</td>\n",
              "      <td>wwbcomics</td>\n",
              "      <td>0</td>\n",
              "      <td>??? mineta is a pervert. what did they say wrong?</td>\n",
              "      <td>(-0.5, 0.9)</td>\n",
              "    </tr>\n",
              "    <tr>\n",
              "      <th>...</th>\n",
              "      <td>...</td>\n",
              "      <td>...</td>\n",
              "      <td>...</td>\n",
              "      <td>...</td>\n",
              "      <td>...</td>\n",
              "      <td>...</td>\n",
              "      <td>...</td>\n",
              "    </tr>\n",
              "    <tr>\n",
              "      <th>295</th>\n",
              "      <td>RT @scratchAE: Why doesn’t Netflix let you tak...</td>\n",
              "      <td>0</td>\n",
              "      <td>2021-04-14 20:53:44</td>\n",
              "      <td>Batflash115</td>\n",
              "      <td>76</td>\n",
              "      <td>rt why doesn’t netflix let you take screenshot...</td>\n",
              "      <td>(0.0, 0.0)</td>\n",
              "    </tr>\n",
              "    <tr>\n",
              "      <th>296</th>\n",
              "      <td>RT @sirlovedrought: Hey @beyonce put some of y...</td>\n",
              "      <td>0</td>\n",
              "      <td>2021-04-14 20:53:43</td>\n",
              "      <td>BeyTHTBITCH</td>\n",
              "      <td>3</td>\n",
              "      <td>rt hey put some of your tours on netflix in th...</td>\n",
              "      <td>(0.075, 0.275)</td>\n",
              "    </tr>\n",
              "    <tr>\n",
              "      <th>297</th>\n",
              "      <td>RT @JMatthiasFord: c'mon guys, who amongst us ...</td>\n",
              "      <td>0</td>\n",
              "      <td>2021-04-14 20:53:43</td>\n",
              "      <td>MiguelAMiggs</td>\n",
              "      <td>46</td>\n",
              "      <td>rt c'mon guys, who amongst us hasn't stalked a...</td>\n",
              "      <td>(-0.5, 1.0)</td>\n",
              "    </tr>\n",
              "    <tr>\n",
              "      <th>298</th>\n",
              "      <td>@JulllieyDark @CBS LOOK THIS @hulu @netflix @n...</td>\n",
              "      <td>1</td>\n",
              "      <td>2021-04-14 20:53:42</td>\n",
              "      <td>mello_tailine</td>\n",
              "      <td>1</td>\n",
              "      <td>look this #savemacgyver</td>\n",
              "      <td>(0.0, 0.0)</td>\n",
              "    </tr>\n",
              "    <tr>\n",
              "      <th>299</th>\n",
              "      <td>Back to my Netflix...</td>\n",
              "      <td>2</td>\n",
              "      <td>2021-04-14 20:53:42</td>\n",
              "      <td>Rheeta_xo</td>\n",
              "      <td>0</td>\n",
              "      <td>back to my netflix...</td>\n",
              "      <td>(0.0, 0.0)</td>\n",
              "    </tr>\n",
              "  </tbody>\n",
              "</table>\n",
              "<p>300 rows × 7 columns</p>\n",
              "</div>"
            ],
            "text/plain": [
              "                                                tweets  likes  \\\n",
              "0        Netflix just dropped season 2 of The Circle 👀      0   \n",
              "1    RT @dianelyssa: Colton coming out and then ann...      0   \n",
              "2    genshin taemin gay au kai taekook shinee tikto...      0   \n",
              "3    RT @netflix: Get your first look at Never Have...      0   \n",
              "4    @Austin49951405 @EDortGam3r @kittiwhores @Clue...      0   \n",
              "..                                                 ...    ...   \n",
              "295  RT @scratchAE: Why doesn’t Netflix let you tak...      0   \n",
              "296  RT @sirlovedrought: Hey @beyonce put some of y...      0   \n",
              "297  RT @JMatthiasFord: c'mon guys, who amongst us ...      0   \n",
              "298  @JulllieyDark @CBS LOOK THIS @hulu @netflix @n...      1   \n",
              "299                              Back to my Netflix...      2   \n",
              "\n",
              "              timestamp            user  retweet  \\\n",
              "0   2021-04-14 20:57:41          nomsed        0   \n",
              "1   2021-04-14 20:57:40        annabkrr      474   \n",
              "2   2021-04-14 20:57:40          filmhj        0   \n",
              "3   2021-04-14 20:57:39  shoutoutlander      793   \n",
              "4   2021-04-14 20:57:39       wwbcomics        0   \n",
              "..                  ...             ...      ...   \n",
              "295 2021-04-14 20:53:44     Batflash115       76   \n",
              "296 2021-04-14 20:53:43     BeyTHTBITCH        3   \n",
              "297 2021-04-14 20:53:43    MiguelAMiggs       46   \n",
              "298 2021-04-14 20:53:42   mello_tailine        1   \n",
              "299 2021-04-14 20:53:42       Rheeta_xo        0   \n",
              "\n",
              "                                        cleaned_tweets  \\\n",
              "0    netflix just dropped season 2 of the circle eyes,   \n",
              "1    rt colton coming out and then announcing a net...   \n",
              "2    genshin taemin gay au kai taekook shinee tikto...   \n",
              "3    rt get your first look at never have i ever se...   \n",
              "4    ??? mineta is a pervert. what did they say wrong?   \n",
              "..                                                 ...   \n",
              "295  rt why doesn’t netflix let you take screenshot...   \n",
              "296  rt hey put some of your tours on netflix in th...   \n",
              "297  rt c'mon guys, who amongst us hasn't stalked a...   \n",
              "298                            look this #savemacgyver   \n",
              "299                              back to my netflix...   \n",
              "\n",
              "                                     sentiment  \n",
              "0                                   (0.0, 0.0)  \n",
              "1    (0.35714285714285715, 0.5714285714285714)  \n",
              "2     (0.4166666666666667, 0.5833333333333334)  \n",
              "3               (-0.0625, 0.41666666666666663)  \n",
              "4                                  (-0.5, 0.9)  \n",
              "..                                         ...  \n",
              "295                                 (0.0, 0.0)  \n",
              "296                             (0.075, 0.275)  \n",
              "297                                (-0.5, 1.0)  \n",
              "298                                 (0.0, 0.0)  \n",
              "299                                 (0.0, 0.0)  \n",
              "\n",
              "[300 rows x 7 columns]"
            ]
          },
          "metadata": {
            "tags": []
          },
          "execution_count": 28
        }
      ]
    },
    {
      "cell_type": "code",
      "metadata": {
        "id": "-lCXwzHMIFlK"
      },
      "source": [
        "#https://towardsdatascience.com/basic-tweet-preprocessing-in-python-efd8360d529e"
      ],
      "execution_count": null,
      "outputs": []
    },
    {
      "cell_type": "markdown",
      "metadata": {
        "id": "WkIujXiaIFlL"
      },
      "source": [
        "#### Get data from Alpha Vantage"
      ]
    },
    {
      "cell_type": "code",
      "metadata": {
        "id": "u5yMnHu9IFlL"
      },
      "source": [
        "import requests \n",
        "import pandas as pd\n",
        "import json\n",
        "from pandas.io.json import json_normalize\n",
        "\n",
        "key = \"-\"\n",
        "URL= \"https://www.alphavantage.co/query?function=OVERVIEW&symbol=AAPL&apikey=key\""
      ],
      "execution_count": null,
      "outputs": []
    },
    {
      "cell_type": "code",
      "metadata": {
        "id": "NyxZah6FIFlM"
      },
      "source": [
        "def get_company_data():\n",
        "    \n",
        "    key = \"-\"\n",
        "    URL= \"-\"\n",
        "    r= requests.get(url= URL)\n",
        "    data = r.json()\n",
        "    df = json_normalize(data)   #transforms the data into a dataframe\n",
        "    df  = df[[\"Name\", \"Sector\", \"Industry\"]]   #returns only select columns\n",
        "    \n",
        "    return df"
      ],
      "execution_count": null,
      "outputs": []
    },
    {
      "cell_type": "code",
      "metadata": {
        "id": "SDqNLu3pIFlN",
        "outputId": "ad0c62e6-ce44-46e3-ddda-3c076c25627b"
      },
      "source": [
        "get_company_data()"
      ],
      "execution_count": null,
      "outputs": [
        {
          "output_type": "stream",
          "text": [
            "<ipython-input-85-e8dc8ca52b31>:7: FutureWarning: pandas.io.json.json_normalize is deprecated, use pandas.json_normalize instead\n",
            "  df = json_normalize(data)   #transforms the data into a dataframe\n"
          ],
          "name": "stderr"
        },
        {
          "output_type": "execute_result",
          "data": {
            "text/html": [
              "<div>\n",
              "<style scoped>\n",
              "    .dataframe tbody tr th:only-of-type {\n",
              "        vertical-align: middle;\n",
              "    }\n",
              "\n",
              "    .dataframe tbody tr th {\n",
              "        vertical-align: top;\n",
              "    }\n",
              "\n",
              "    .dataframe thead th {\n",
              "        text-align: right;\n",
              "    }\n",
              "</style>\n",
              "<table border=\"1\" class=\"dataframe\">\n",
              "  <thead>\n",
              "    <tr style=\"text-align: right;\">\n",
              "      <th></th>\n",
              "      <th>Name</th>\n",
              "      <th>Sector</th>\n",
              "      <th>Industry</th>\n",
              "    </tr>\n",
              "  </thead>\n",
              "  <tbody>\n",
              "    <tr>\n",
              "      <th>0</th>\n",
              "      <td>Netflix, Inc</td>\n",
              "      <td>Communication Services</td>\n",
              "      <td>Entertainment</td>\n",
              "    </tr>\n",
              "  </tbody>\n",
              "</table>\n",
              "</div>"
            ],
            "text/plain": [
              "           Name                  Sector       Industry\n",
              "0  Netflix, Inc  Communication Services  Entertainment"
            ]
          },
          "metadata": {
            "tags": []
          },
          "execution_count": 86
        }
      ]
    },
    {
      "cell_type": "markdown",
      "metadata": {
        "id": "mdrfKaLBIFlO"
      },
      "source": [
        "#### Get Data from News API - can also specify the publisher"
      ]
    },
    {
      "cell_type": "code",
      "metadata": {
        "id": "QpEQVkq8IFlO"
      },
      "source": [
        "import requests"
      ],
      "execution_count": null,
      "outputs": []
    },
    {
      "cell_type": "code",
      "metadata": {
        "id": "mVHdVB0THAuT"
      },
      "source": [
        "\"\"\"\n",
        "@author: Mohamed Abouregila\n",
        "get_headlines()\n",
        " this function takes company, fromDate, and to date in form of  \"yyyy-mm-dd\", and returns a dataframe of all \n",
        " headlines posted about this company in the specified period\n",
        "\n",
        "\"\"\"\n",
        "def get_headlines(company,fromDate,toDate,key):\n",
        "    \n",
        "    url= \"http://newsapi.org/v2/everything?\"\n",
        "    parameters = {\n",
        "            \"qInTitle\": company,\n",
        "            \"language\":\"en\",\n",
        "            \"from\":fromDate,\n",
        "            \"to\":toDate,\n",
        "            \"apiKey\":key,\n",
        "    }\n",
        "    \n",
        "    response = requests.get(url,params=parameters)\n",
        "\n",
        "    df = response.json()\n",
        "    df = pd.DataFrame.from_dict(df)\n",
        "    df = pd.concat([df.drop(['articles'], axis=1), df['articles'].apply(pd.Series)], axis=1)\n",
        "    df [[\"Drop\",\"source_\"]] = df.source.apply(pd.Series)\n",
        "    df = df [[\"title\",\"publishedAt\", \"source_\"]]\n",
        "\n",
        "    return df"
      ],
      "execution_count": null,
      "outputs": []
    },
    {
      "cell_type": "code",
      "metadata": {
        "colab": {
          "base_uri": "https://localhost:8080/",
          "height": 197
        },
        "id": "_JXMdJ6IJk-n",
        "outputId": "2fbf0954-33e9-4b79-cfba-377a7832fcb6"
      },
      "source": [
        "#Call get_headlines, and pass parameters\n",
        "df_news = get_headlines(\"netflix\",\"2021-04-21\",\"2021-04-21\",\"\")\n",
        "#calulate sentiment score, and add the olumn to the df\n",
        "df_news['sentiment'] = df_news['title'].apply(lambda title: TextBlob(title).sentiment.polarity)\n",
        "\n",
        "\n",
        "df_news.head()"
      ],
      "execution_count": null,
      "outputs": [
        {
          "output_type": "execute_result",
          "data": {
            "text/html": [
              "<div>\n",
              "<style scoped>\n",
              "    .dataframe tbody tr th:only-of-type {\n",
              "        vertical-align: middle;\n",
              "    }\n",
              "\n",
              "    .dataframe tbody tr th {\n",
              "        vertical-align: top;\n",
              "    }\n",
              "\n",
              "    .dataframe thead th {\n",
              "        text-align: right;\n",
              "    }\n",
              "</style>\n",
              "<table border=\"1\" class=\"dataframe\">\n",
              "  <thead>\n",
              "    <tr style=\"text-align: right;\">\n",
              "      <th></th>\n",
              "      <th>title</th>\n",
              "      <th>publishedAt</th>\n",
              "      <th>source_</th>\n",
              "      <th>sentiment</th>\n",
              "    </tr>\n",
              "  </thead>\n",
              "  <tbody>\n",
              "    <tr>\n",
              "      <th>0</th>\n",
              "      <td>What's New on Netflix in May 2021</td>\n",
              "      <td>2021-04-21T15:25:00Z</td>\n",
              "      <td>Lifehacker.com</td>\n",
              "      <td>0.136364</td>\n",
              "    </tr>\n",
              "    <tr>\n",
              "      <th>1</th>\n",
              "      <td>The Witcher Could Return to Netflix Sooner Tha...</td>\n",
              "      <td>2021-04-21T13:18:00Z</td>\n",
              "      <td>Gizmodo.com</td>\n",
              "      <td>0.000000</td>\n",
              "    </tr>\n",
              "    <tr>\n",
              "      <th>2</th>\n",
              "      <td>Netflix: Shares plunge as subscribers switch off</td>\n",
              "      <td>2021-04-21T03:05:57Z</td>\n",
              "      <td>BBC News</td>\n",
              "      <td>0.000000</td>\n",
              "    </tr>\n",
              "    <tr>\n",
              "      <th>3</th>\n",
              "      <td>Buy Netflix on the dip -advisor - Reuters</td>\n",
              "      <td>2021-04-21T20:26:41Z</td>\n",
              "      <td>Reuters</td>\n",
              "      <td>0.000000</td>\n",
              "    </tr>\n",
              "    <tr>\n",
              "      <th>4</th>\n",
              "      <td>Nasdaq futures retreat after Netflix subscribe...</td>\n",
              "      <td>2021-04-21T11:27:00Z</td>\n",
              "      <td>Reuters</td>\n",
              "      <td>0.000000</td>\n",
              "    </tr>\n",
              "  </tbody>\n",
              "</table>\n",
              "</div>"
            ],
            "text/plain": [
              "                                               title  ... sentiment\n",
              "0                  What's New on Netflix in May 2021  ...  0.136364\n",
              "1  The Witcher Could Return to Netflix Sooner Tha...  ...  0.000000\n",
              "2   Netflix: Shares plunge as subscribers switch off  ...  0.000000\n",
              "3          Buy Netflix on the dip -advisor - Reuters  ...  0.000000\n",
              "4  Nasdaq futures retreat after Netflix subscribe...  ...  0.000000\n",
              "\n",
              "[5 rows x 4 columns]"
            ]
          },
          "metadata": {
            "tags": []
          },
          "execution_count": 9
        }
      ]
    },
    {
      "cell_type": "code",
      "metadata": {
        "id": "jstRkEkFIFlR"
      },
      "source": [
        "df_news [\"publishedAt\"] = pd.to_datetime(s).dt.tz_localize(None)\n"
      ],
      "execution_count": null,
      "outputs": []
    },
    {
      "cell_type": "code",
      "metadata": {
        "id": "E5ZPXEBMIFlS",
        "outputId": "784e3fb1-4cdf-4710-9bab-f66ece8f0c04"
      },
      "source": [
        "df_news.head()"
      ],
      "execution_count": null,
      "outputs": [
        {
          "output_type": "execute_result",
          "data": {
            "text/html": [
              "<div>\n",
              "<style scoped>\n",
              "    .dataframe tbody tr th:only-of-type {\n",
              "        vertical-align: middle;\n",
              "    }\n",
              "\n",
              "    .dataframe tbody tr th {\n",
              "        vertical-align: top;\n",
              "    }\n",
              "\n",
              "    .dataframe thead th {\n",
              "        text-align: right;\n",
              "    }\n",
              "</style>\n",
              "<table border=\"1\" class=\"dataframe\">\n",
              "  <thead>\n",
              "    <tr style=\"text-align: right;\">\n",
              "      <th></th>\n",
              "      <th>title</th>\n",
              "      <th>publishedAt</th>\n",
              "      <th>source_</th>\n",
              "    </tr>\n",
              "  </thead>\n",
              "  <tbody>\n",
              "    <tr>\n",
              "      <th>0</th>\n",
              "      <td>Stream It Or Skip It: ‘Dad Stop Embarrassing M...</td>\n",
              "      <td>2021-04-14 22:30:20+00:00</td>\n",
              "      <td>Decider</td>\n",
              "    </tr>\n",
              "    <tr>\n",
              "      <th>1</th>\n",
              "      <td>Free Netflix &amp; Amazon Prime &amp; Spotify &amp; Airpor...</td>\n",
              "      <td>2021-04-14 22:20:55+00:00</td>\n",
              "      <td>Ozbargain.com.au</td>\n",
              "    </tr>\n",
              "    <tr>\n",
              "      <th>2</th>\n",
              "      <td>‘Shadow And Bone’ Creators Say The Netflix Ser...</td>\n",
              "      <td>2021-04-14 22:05:35+00:00</td>\n",
              "      <td>Forbes</td>\n",
              "    </tr>\n",
              "    <tr>\n",
              "      <th>3</th>\n",
              "      <td>Stream It Or Skip It: ‘Law School’ On Netflix,...</td>\n",
              "      <td>2021-04-14 22:00:22+00:00</td>\n",
              "      <td>Decider</td>\n",
              "    </tr>\n",
              "    <tr>\n",
              "      <th>4</th>\n",
              "      <td>Stream It Or Skip It: ‘Why Did You Kill Me?’ o...</td>\n",
              "      <td>2021-04-14 21:40:41+00:00</td>\n",
              "      <td>Decider</td>\n",
              "    </tr>\n",
              "  </tbody>\n",
              "</table>\n",
              "</div>"
            ],
            "text/plain": [
              "                                               title  \\\n",
              "0  Stream It Or Skip It: ‘Dad Stop Embarrassing M...   \n",
              "1  Free Netflix & Amazon Prime & Spotify & Airpor...   \n",
              "2  ‘Shadow And Bone’ Creators Say The Netflix Ser...   \n",
              "3  Stream It Or Skip It: ‘Law School’ On Netflix,...   \n",
              "4  Stream It Or Skip It: ‘Why Did You Kill Me?’ o...   \n",
              "\n",
              "                publishedAt           source_  \n",
              "0 2021-04-14 22:30:20+00:00           Decider  \n",
              "1 2021-04-14 22:20:55+00:00  Ozbargain.com.au  \n",
              "2 2021-04-14 22:05:35+00:00            Forbes  \n",
              "3 2021-04-14 22:00:22+00:00           Decider  \n",
              "4 2021-04-14 21:40:41+00:00           Decider  "
            ]
          },
          "metadata": {
            "tags": []
          },
          "execution_count": 106
        }
      ]
    },
    {
      "cell_type": "code",
      "metadata": {
        "id": "szXYwZwZIFlT"
      },
      "source": [
        "#newspapers= Daily Mail, Extra, Variety, "
      ],
      "execution_count": null,
      "outputs": []
    }
  ]
}